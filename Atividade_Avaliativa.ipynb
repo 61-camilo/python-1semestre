{
  "nbformat": 4,
  "nbformat_minor": 0,
  "metadata": {
    "colab": {
      "name": "Atividade_Avaliativa.ipynb",
      "provenance": [],
      "authorship_tag": "ABX9TyNkMM8mx+oZKbIS97UKkvwQ",
      "include_colab_link": true
    },
    "kernelspec": {
      "name": "python3",
      "display_name": "Python 3"
    },
    "language_info": {
      "name": "python"
    }
  },
  "cells": [
    {
      "cell_type": "markdown",
      "metadata": {
        "id": "view-in-github",
        "colab_type": "text"
      },
      "source": [
        "<a href=\"https://colab.research.google.com/github/61-camilo/python-1semestre/blob/main/Atividade_Avaliativa.ipynb\" target=\"_parent\"><img src=\"https://colab.research.google.com/assets/colab-badge.svg\" alt=\"Open In Colab\"/></a>"
      ]
    },
    {
      "cell_type": "code",
      "execution_count": 3,
      "metadata": {
        "id": "9glj91zTFQp1",
        "colab": {
          "base_uri": "https://localhost:8080/"
        },
        "outputId": "446be163-db85-4313-8263-5b1a8c966cbe"
      },
      "outputs": [
        {
          "output_type": "stream",
          "name": "stdout",
          "text": [
            "{'Camilo': ['61996104431', 'gms.camilos@gmail.com', '@camilos', 'camilo123'], 'Sabrina': ['6199453264', 'sabrina@gmail.com', '@sabrina123', 'Sabrinasousa'], 'Gabriel': ['61995634875', 'gabrielsilva@gmail.com', '@silvagabriel', 'gabrielsilva'], 'Sergio': ['62985632456', 'sergio2022@gmail.com', '@sergiof', 'sergiofernandes'], 'Fabiana': ['6199856324', 'fabi.militao@gmail.com', '@mavanju', 'Fabimilitao'], 'Waldir': ['61985634897', 'Waldir@hotmail.com', '@wdr.silva', 'waldirsilva']}\n",
            "Insira o nome do contato: Sebastião\n",
            "Insira o telefone do contato: 63995874236\n",
            "Informe o email do contato: sebas@yahoo.com.br\n",
            "Insira o usuario do twitter: @sebast\n",
            "Informe o usuario do facebook: sebastiaoc\n",
            "{'Camilo': ['61996104431', 'gms.camilos@gmail.com', '@camilos', 'camilo123'], 'Sabrina': ['6199453264', 'sabrina@gmail.com', '@sabrina123', 'Sabrinasousa'], 'Gabriel': ['61995634875', 'gabrielsilva@gmail.com', '@silvagabriel', 'gabrielsilva'], 'Sergio': ['62985632456', 'sergio2022@gmail.com', '@sergiof', 'sergiofernandes'], 'Fabiana': ['6199856324', 'fabi.militao@gmail.com', '@mavanju', 'Fabimilitao'], 'Waldir': ['61985634897', 'Waldir@hotmail.com', '@wdr.silva', 'waldirsilva'], 'Sebastião': ['63995874236', 'sebas@yahoo.com.br', '@sebast', 'sebastiaoc']}\n"
          ]
        }
      ],
      "source": [
        "#Desenvolva uma Agenda telefônica em Python que ira armazenar numeros de telefone, email, e usuarios do twitter e instagram.\n",
        "\n",
        "# Criando dicionario de dados da agenda\n",
        "\n",
        "agenda = {}\n",
        "\n",
        "agenda [\"Camilo\"]=[\"61996104431\", \"gms.camilos@gmail.com\", \"@camilos\" , \"camilo123\"]\n",
        "agenda [\"Sabrina\"]=[\"6199453264\", \"sabrina@gmail.com\", \"@sabrina123\", \"Sabrinasousa\"]\n",
        "agenda [\"Gabriel\"]=[\"61995634875\", \"gabrielsilva@gmail.com\", \"@silvagabriel\", \"gabrielsilva\"]\n",
        "agenda [\"Sergio\"]=[\"62985632456\", \"sergio2022@gmail.com\", \"@sergiof\", \"sergiofernandes\"]\n",
        "agenda [\"Fabiana\"]=[\"6199856324\", \"fabi.militao@gmail.com\", \"@mavanju\", \"Fabimilitao\"]\n",
        "agenda [\"Waldir\"]=[\"61985634897\", \"Waldir@hotmail.com\", \"@wdr.silva\", \"waldirsilva\"]\n",
        "\n",
        "print(agenda)\n",
        "\n",
        "#Inserindo novos contatos\n",
        "\n",
        "nome = input(\"Insira o nome do contato: \")\n",
        "telefone = input(\"Insira o telefone do contato: \")\n",
        "email = input(\"Informe o email do contato: \")\n",
        "twitter = input(\"Insira o usuario do twitter: \")\n",
        "facebook = input(\"Informe o usuario do facebook: \")\n",
        "\n",
        "agenda [nome] = [telefone, email, twitter, facebook]\n",
        "print(agenda)\n"
      ]
    },
    {
      "cell_type": "code",
      "source": [
        "print(agenda)\n"
      ],
      "metadata": {
        "colab": {
          "base_uri": "https://localhost:8080/"
        },
        "id": "d2KDE8saJVwj",
        "outputId": "96d7df4c-29e4-47e2-d2f8-dc1c84a24254"
      },
      "execution_count": 2,
      "outputs": [
        {
          "output_type": "stream",
          "name": "stdout",
          "text": [
            "{'Camilo': ['61996104431', 'gms.camilos@gmail.com', '@camilos', 'camilo123'], 'Sabrina': ['6199453264', 'sabrina@gmail.com', '@sabrina123', 'Sabrinasousa'], 'João': ['61998563632', 'joaof@gmail.com', '@jjoao', 'joaofelipe']}\n"
          ]
        }
      ]
    },
    {
      "cell_type": "code",
      "source": [
        ""
      ],
      "metadata": {
        "id": "BwR2Zg65NssV"
      },
      "execution_count": null,
      "outputs": []
    }
  ]
}