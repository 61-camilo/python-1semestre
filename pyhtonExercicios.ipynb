{
  "nbformat": 4,
  "nbformat_minor": 0,
  "metadata": {
    "colab": {
      "name": "pyhtonExercicios.ipynb",
      "provenance": [],
      "authorship_tag": "ABX9TyMe4kkgqD+ocX3i44K8mUA/",
      "include_colab_link": true
    },
    "kernelspec": {
      "name": "python3",
      "display_name": "Python 3"
    },
    "language_info": {
      "name": "python"
    }
  },
  "cells": [
    {
      "cell_type": "markdown",
      "metadata": {
        "id": "view-in-github",
        "colab_type": "text"
      },
      "source": [
        "<a href=\"https://colab.research.google.com/github/61-camilo/python-1semestre/blob/main/pyhtonExercicios.ipynb\" target=\"_parent\"><img src=\"https://colab.research.google.com/assets/colab-badge.svg\" alt=\"Open In Colab\"/></a>"
      ]
    },
    {
      "cell_type": "code",
      "execution_count": null,
      "metadata": {
        "id": "TykJBLGEKO-3",
        "colab": {
          "base_uri": "https://localhost:8080/"
        },
        "outputId": "b8a95fc5-0ef6-447d-d5a5-9993fad57182"
      },
      "outputs": [
        {
          "output_type": "stream",
          "name": "stdout",
          "text": [
            "Olá mundo\n"
          ]
        }
      ],
      "source": [
        "#crie um programa que escreva \"Olá Mundo\" na tela\n",
        "\n",
        "print(\"Olá mundo\")\n",
        "\n"
      ]
    },
    {
      "cell_type": "code",
      "source": [
        "nome = input('Qual é o seu nome?')\n",
        "print(\"Ola {} seja bem vindo!\" .format(nome))\n"
      ],
      "metadata": {
        "id": "wQkTYgabN_5F",
        "colab": {
          "base_uri": "https://localhost:8080/"
        },
        "outputId": "37e94743-e315-46a0-b426-bd7f7af21c71"
      },
      "execution_count": 1,
      "outputs": [
        {
          "output_type": "stream",
          "name": "stdout",
          "text": [
            "Qual é o seu nome?Camilo \n",
            "Ola Camilo  seja bem vindo!\n"
          ]
        }
      ]
    },
    {
      "cell_type": "code",
      "source": [
        "n1 = int(input('Digite um numero'))\n",
        "n2 = int(input('Digite mais um numero'))\n",
        "s = (n1 + n2)\n",
        "print('A soma vale' ,s,)\n",
        "\n",
        "\n",
        "\n"
      ],
      "metadata": {
        "colab": {
          "base_uri": "https://localhost:8080/"
        },
        "id": "znyyxW5EbvWp",
        "outputId": "7447b404-df9b-4342-997c-49092fe478f9"
      },
      "execution_count": 7,
      "outputs": [
        {
          "output_type": "stream",
          "name": "stdout",
          "text": [
            "Digite um numero 5\n",
            "Digite mais um numero 5\n",
            "A soma vale 10\n"
          ]
        }
      ]
    }
  ]
}